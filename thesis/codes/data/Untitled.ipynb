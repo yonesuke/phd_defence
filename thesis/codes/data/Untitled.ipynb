{
 "cells": [
  {
   "cell_type": "code",
   "execution_count": 1,
   "metadata": {},
   "outputs": [],
   "source": [
    "import numpy as np\n",
    "import matplotlib.pyplot as plt\n",
    "from glob import glob\n",
    "from tqdm import tqdm"
   ]
  },
  {
   "cell_type": "code",
   "execution_count": 2,
   "metadata": {},
   "outputs": [],
   "source": [
    "#files=glob('/Volumes/YONE/numericalresults/data_gauss_n-1_meanfield*/*')\n",
    "Kss=[np.arange(0.12,2.12,0.01),np.arange(0.15,2.15,0.01),np.arange(0.18,2.18,0.01),np.arange(0.27,2.27,0.01)]\n",
    "ns=[1,2,3,'inf']\n",
    "sizes=[100,200,400,800,1600,3200,]"
   ]
  },
  {
   "cell_type": "code",
   "execution_count": 3,
   "metadata": {},
   "outputs": [
    {
     "name": "stderr",
     "output_type": "stream",
     "text": [
      "  0%|          | 0/4 [00:00<?, ?it/s]\n",
      "  0%|          | 0/6 [00:00<?, ?it/s]\u001b[A\n",
      " 17%|█▋        | 1/6 [02:12<11:01, 132.24s/it]\u001b[A\n",
      " 33%|███▎      | 2/6 [04:18<08:42, 130.57s/it]\u001b[A\n",
      " 50%|█████     | 3/6 [06:26<06:28, 129.63s/it]\u001b[A\n",
      " 67%|██████▋   | 4/6 [07:31<03:40, 110.38s/it]\u001b[A\n",
      " 83%|████████▎ | 5/6 [08:13<01:29, 89.73s/it] \u001b[A\n",
      " 25%|██▌       | 1/4 [08:51<26:34, 531.66s/it]\n",
      "  0%|          | 0/6 [00:00<?, ?it/s]\u001b[A\n",
      " 17%|█▋        | 1/6 [02:30<12:30, 150.11s/it]\u001b[A\n",
      " 33%|███▎      | 2/6 [05:08<10:10, 152.72s/it]\u001b[A\n",
      " 50%|█████     | 3/6 [07:30<07:28, 149.52s/it]\u001b[A\n",
      " 67%|██████▋   | 4/6 [08:38<04:09, 124.83s/it]\u001b[A\n",
      " 83%|████████▎ | 5/6 [09:07<01:36, 96.16s/it] \u001b[A\n",
      " 50%|█████     | 2/4 [18:34<18:14, 547.13s/it]\n",
      "  0%|          | 0/6 [00:00<?, ?it/s]\u001b[A\n",
      " 17%|█▋        | 1/6 [02:57<14:49, 177.82s/it]\u001b[A\n",
      " 33%|███▎      | 2/6 [06:04<12:01, 180.33s/it]\u001b[A\n",
      " 50%|█████     | 3/6 [08:51<08:49, 176.57s/it]\u001b[A\n",
      " 67%|██████▋   | 4/6 [10:09<04:53, 146.95s/it]\u001b[A\n",
      " 83%|████████▎ | 5/6 [10:47<01:54, 114.29s/it]\u001b[A\n",
      " 75%|███████▌  | 3/4 [30:02<09:49, 589.35s/it]\n",
      "  0%|          | 0/6 [00:00<?, ?it/s]\u001b[A\n",
      " 17%|█▋        | 1/6 [02:30<12:33, 150.61s/it]\u001b[A\n",
      " 33%|███▎      | 2/6 [04:56<09:57, 149.26s/it]\u001b[A\n",
      " 50%|█████     | 3/6 [07:22<07:24, 148.20s/it]\u001b[A\n",
      " 67%|██████▋   | 4/6 [08:35<04:11, 125.73s/it]\u001b[A\n",
      " 83%|████████▎ | 5/6 [09:15<01:40, 100.01s/it]\u001b[A\n",
      "100%|██████████| 4/4 [39:55<00:00, 590.46s/it]\n"
     ]
    }
   ],
   "source": [
    "for i in tqdm(range(4)):\n",
    "    n=ns[i]\n",
    "    Ks=Kss[i]\n",
    "    for size in tqdm(sizes):\n",
    "        files=glob(f'/Volumes/YONE/numericalresults/data_gauss_n-{n}_p-0.2_*/size-{size}_*')\n",
    "        aa=[np.load(file)[:,-2000:] for file in files]\n",
    "        aa=np.array(aa)\n",
    "        aa=aa.transpose(1,0,2).mean(axis=2)\n",
    "        mean=np.mean(aa,axis=1)\n",
    "        std=np.std(aa,axis=1)\n",
    "        output=np.array([[Ks[i],mean[i],std[i]] for i in range(200)])\n",
    "        np.savetxt(f'mf_n-{n}_size-{size}.txt',output)"
   ]
  },
  {
   "cell_type": "code",
   "execution_count": 4,
   "metadata": {},
   "outputs": [
    {
     "name": "stderr",
     "output_type": "stream",
     "text": [
      "100%|██████████| 1000/1000 [01:27<00:00, 11.40it/s]\n"
     ]
    }
   ],
   "source": [
    "aa=[np.load(file)[:,-2000:] for file in tqdm(files)]"
   ]
  },
  {
   "cell_type": "code",
   "execution_count": 5,
   "metadata": {},
   "outputs": [],
   "source": [
    "aa=np.array(aa)"
   ]
  },
  {
   "cell_type": "code",
   "execution_count": 6,
   "metadata": {},
   "outputs": [],
   "source": [
    "aa=aa.transpose(1,0,2).reshape(200,-1)"
   ]
  },
  {
   "cell_type": "code",
   "execution_count": 7,
   "metadata": {},
   "outputs": [],
   "source": [
    "mean=np.mean(aa,axis=1)"
   ]
  },
  {
   "cell_type": "code",
   "execution_count": 9,
   "metadata": {},
   "outputs": [
    {
     "data": {
      "text/plain": [
       "[<matplotlib.lines.Line2D at 0x11507c390>]"
      ]
     },
     "execution_count": 9,
     "metadata": {},
     "output_type": "execute_result"
    },
    {
     "data": {
      "image/png": "[encoded data removed]",
      "text/plain": [
       "<Figure size 432x288 with 1 Axes>"
      ]
     },
     "metadata": {
      "needs_background": "light"
     },
     "output_type": "display_data"
    }
   ],
   "source": [
    "Ks=np.arange(1.01,3.01,0.01)\n",
    "plt.plot(Ks,mean)"
   ]
  },
  {
   "cell_type": "code",
   "execution_count": null,
   "metadata": {},
   "outputs": [],
   "source": []
  }
 ],
 "metadata": {
  "kernelspec": {
   "display_name": "Python 3",
   "language": "python3",
   "name": "python3"
  },
  "language_info": {
   "codemirror_mode": {
    "name": "ipython",
    "version": 3
   },
   "file_extension": ".py",
   "mimetype": "text/x-python",
   "name": "python",
   "nbconvert_exporter": "python",
   "pygments_lexer": "ipython3",
   "version": "3.7.3"
  }
 },
 "nbformat": 4,
 "nbformat_minor": 2
}
